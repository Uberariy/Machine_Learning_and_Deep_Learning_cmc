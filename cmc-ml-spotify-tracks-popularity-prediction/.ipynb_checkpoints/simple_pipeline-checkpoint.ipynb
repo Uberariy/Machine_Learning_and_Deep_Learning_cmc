{
 "cells": [
  {
   "cell_type": "markdown",
   "metadata": {
    "id": "MwhlKaqCwtwb"
   },
   "source": [
    "# Задание 9. Контест. Spotify tracks popularity prediction"
   ]
  },
  {
   "cell_type": "markdown",
   "metadata": {
    "id": "RDNzKY62wtwo"
   },
   "source": [
    "В этом задании вам предложен набор данных, содержащий информацию о некоторых композициях из сервиса Spotify. Признаковое описание состоит из результатов запросов **GET https:// api.spotify.com/v1/audio-features/{id}**, которые возвращают объекты, которые описывают такие свойства композиций, как танцевальность, акустичность, громкость, темп, а также тональность и некоторые другие. Более подробно про признаки можно прочитать в [описании (англ.)](https://developer.spotify.com/documentation/web-api/reference/#/operations/get-audio-features) такого объекта в официальной документации Spotify. В выборку также добавлены закодированные номера артистов и альбомов (сквозная нумерация).\n",
    "\n",
    "**ВНИМАНИЕ! Масштаб и абсолютные значения некоторых вещественных признаков были изменены!**\n",
    "\n",
    "В качестве целевой переменной выбран параметр **popularity** из API Spotify, который принимает целые значения от 0 до 100 и тем выше, чем больше раз трек был прослушан и чем менее давними были эти прослушивания. Более подробно можно прочитать в выдержке из документации Spotify:\n",
    "\n",
    "> **popularity**\n",
    "\n",
    "> The popularity of the track. The value will be between 0 and 100, with 100 being the most popular.\n",
    "The popularity of a track is a value between 0 and 100, with 100 being the most popular. The popularity is calculated by algorithm and is based, in the most part, on the total number of plays the track has had and how recent those plays are.\n",
    "Generally speaking, songs that are being played a lot now will have a higher popularity than songs that were played a lot in the past. Duplicate tracks (e.g. the same track from a single and an album) are rated independently. Artist and album popularity is derived mathematically from track popularity. Note that the popularity value may lag actual popularity by a few days: the value is not updated in real time.\n",
    "\n",
    "**ВНИМАНИЕ! Масштаб и абсолютные значения популярности были изменены!**\n",
    "\n",
    "В качестве метрики качества используется **rMSE (root mean squared error)** -- корень из среднеквадратической ошибки (**обратите внимание на параметр squared=False в вызовах mean_squared_error**)."
   ]
  },
  {
   "cell_type": "markdown",
   "metadata": {
    "id": "sw5QoOi9wtws"
   },
   "source": [
    "Вам необходимо разработать модель машинного обучения для восстановления зависимости **популярности** композиции от ее вышеописанных свойств.\n",
    "\n",
    "В папке с заданием помимо этого файла и примера корректной посылки находятся 2 файла с данными -- **train.csv** и **test.csv**, которые содержат, соответственно, тренировочную выборку (с известными значениями целевой переменной в поле **popularity**) и признаковую часть тестовой выборки.\n",
    "\n",
    "\n",
    "В качестве ответа на это задание вы должны предоставить **Kaggle-ноутбук** (как создать такой ноутбук, читайте ниже), который:\n",
    "1. генерирует на выходе **csv-файл** со столбцом предсказанных популярностей для композиций из тестовой выборки и отправляет его в систему Kaggle. Пример такого файла находится в папке с заданием (**sample_submission.csv**);\n",
    "2. разрешает чтение пользователю [Sergey Serov](https://www.kaggle.com/ssserov/account).\n",
    "\n",
    "**НЕВЫПОЛНЕНИЕ ЛЮБОГО ИЗ УКАЗАННЫХ ПУНКТОВ ПРИВЕДЁТ К ОЦЕНИВАНИЮ ЗАДАНИЯ В 0 БАЛЛОВ!**"
   ]
  },
  {
   "cell_type": "markdown",
   "metadata": {
    "ExecuteTime": {
     "end_time": "2022-04-04T15:09:55.497522Z",
     "start_time": "2022-04-04T15:09:55.465548Z"
    },
    "id": "ROo3duAEwtwv"
   },
   "source": [
    "**Как создать и отправить корректный Kaggle-ноутбук:**\n",
    "\n",
    "1. На странице соревнования перейдите на вкладку **Code** и нажмите **New Notebook**.\n",
    "\n",
    "2. **Никакие дополнительные данные для выполнения задания загружать не нужно** (но это не запрещено). Путь, по которому автоматически находятся необходимые файлы с данными, можно посмотреть, выполнив первую ячейку и изучив ее вывод."
   ]
  },
  {
   "cell_type": "markdown",
   "metadata": {
    "id": "PzSg4sMswtwz"
   },
   "source": [
    "3. Дать права на чтение ноутбука пользователю [Sergey Serov](https://www.kaggle.com/ssserov/account). Для этого в верхней панели ноутбука нужно нажать кнопку **Share**, далее выбрать **Add collaborators** и в поиске найти пользователя Sergey Serov (вместо owner будет написано collaborator). Не забудьте сохранить изменения кнопкой **Save**.\n",
    "\n"
   ]
  },
  {
   "cell_type": "markdown",
   "metadata": {
    "id": "lHwBxrUawtw3"
   },
   "source": [
    "После правильного действия Вы увидите:\n"
   ]
  },
  {
   "cell_type": "markdown",
   "metadata": {
    "id": "Zz6cNDdrwtw6"
   },
   "source": [
    "4. Для того, чтобы предсказания, полученные kaggle-ноутбуком были корректно учтены системой, он должен сохранять их следующей командой **submission.to_csv(\"/kaggle/working/submission.csv\", index_label=\"index\")**, где **submission** -- ваш датафрейм с предсказаниями (как в примере ниже)."
   ]
  },
  {
   "cell_type": "markdown",
   "metadata": {
    "id": "HQZy4vajwtw8"
   },
   "source": [
    "5. Для отправки ноутбука в правой его панели выберите вкладку **Competitions**, нажмите на кнопку **Submit**, по желанию введите название и описание посылки и подтвердите нажатием кнопки **Submit**.\n"
   ]
  },
  {
   "cell_type": "markdown",
   "metadata": {
    "id": "CVpo5vhHwtxA"
   },
   "source": [
    "**Далее в этом ноутбуке покажем пример формирования csv-файла с предсказаниями популярности для композиций из тестовой выборки.**"
   ]
  },
  {
   "cell_type": "markdown",
   "metadata": {
    "id": "v7VtNCGmwtxC"
   },
   "source": [
    "Для начала импортируем библиотеки и загрузим данные из файлов **train.csv** и **test.csv**."
   ]
  },
  {
   "cell_type": "code",
   "execution_count": 31,
   "metadata": {
    "ExecuteTime": {
     "end_time": "2022-03-13T12:27:33.346886Z",
     "start_time": "2022-03-13T12:27:33.338887Z"
    },
    "id": "Zvj62e0uwtxD"
   },
   "outputs": [],
   "source": [
    "import pandas as pd\n",
    "from sklearn.metrics import mean_squared_error"
   ]
  },
  {
   "cell_type": "code",
   "execution_count": 32,
   "metadata": {
    "ExecuteTime": {
     "end_time": "2022-03-13T12:24:03.910721Z",
     "start_time": "2022-03-13T12:24:03.614723Z"
    },
    "colab": {
     "base_uri": "https://localhost:8080/",
     "height": 270
    },
    "id": "vDTndMinwtxG",
    "outputId": "9484b5ef-d741-4b20-c51e-3799de33a65a"
   },
   "outputs": [
    {
     "data": {
      "text/html": [
       "\n",
       "  <div id=\"df-27b14a4c-0c2b-4818-ae96-a63c53381d7b\">\n",
       "    <div class=\"colab-df-container\">\n",
       "      <div>\n",
       "<style scoped>\n",
       "    .dataframe tbody tr th:only-of-type {\n",
       "        vertical-align: middle;\n",
       "    }\n",
       "\n",
       "    .dataframe tbody tr th {\n",
       "        vertical-align: top;\n",
       "    }\n",
       "\n",
       "    .dataframe thead th {\n",
       "        text-align: right;\n",
       "    }\n",
       "</style>\n",
       "<table border=\"1\" class=\"dataframe\">\n",
       "  <thead>\n",
       "    <tr style=\"text-align: right;\">\n",
       "      <th></th>\n",
       "      <th>index</th>\n",
       "      <th>composer</th>\n",
       "      <th>album</th>\n",
       "      <th>danceability</th>\n",
       "      <th>energy</th>\n",
       "      <th>key</th>\n",
       "      <th>loudness</th>\n",
       "      <th>mode</th>\n",
       "      <th>speechiness</th>\n",
       "      <th>acousticness</th>\n",
       "      <th>instrumentalness</th>\n",
       "      <th>liveness</th>\n",
       "      <th>valence</th>\n",
       "      <th>tempo</th>\n",
       "      <th>duration_ms</th>\n",
       "      <th>time_signature</th>\n",
       "      <th>popularity</th>\n",
       "    </tr>\n",
       "  </thead>\n",
       "  <tbody>\n",
       "    <tr>\n",
       "      <th>0</th>\n",
       "      <td>0</td>\n",
       "      <td>35</td>\n",
       "      <td>5187</td>\n",
       "      <td>6538.248</td>\n",
       "      <td>0.333312</td>\n",
       "      <td>2</td>\n",
       "      <td>-17.541540</td>\n",
       "      <td>0</td>\n",
       "      <td>0.034528</td>\n",
       "      <td>-0.432689</td>\n",
       "      <td>0.002920</td>\n",
       "      <td>567.788</td>\n",
       "      <td>0.54487</td>\n",
       "      <td>92.65497</td>\n",
       "      <td>347863.20</td>\n",
       "      <td>4</td>\n",
       "      <td>35</td>\n",
       "    </tr>\n",
       "    <tr>\n",
       "      <th>1</th>\n",
       "      <td>1</td>\n",
       "      <td>206</td>\n",
       "      <td>799</td>\n",
       "      <td>6323.376</td>\n",
       "      <td>0.397296</td>\n",
       "      <td>0</td>\n",
       "      <td>-16.723045</td>\n",
       "      <td>1</td>\n",
       "      <td>0.030451</td>\n",
       "      <td>-0.357520</td>\n",
       "      <td>0.000000</td>\n",
       "      <td>2196.688</td>\n",
       "      <td>0.72203</td>\n",
       "      <td>104.02050</td>\n",
       "      <td>205176.03</td>\n",
       "      <td>4</td>\n",
       "      <td>5</td>\n",
       "    </tr>\n",
       "    <tr>\n",
       "      <th>2</th>\n",
       "      <td>2</td>\n",
       "      <td>318</td>\n",
       "      <td>1152</td>\n",
       "      <td>7305.648</td>\n",
       "      <td>0.511872</td>\n",
       "      <td>2</td>\n",
       "      <td>-21.101915</td>\n",
       "      <td>1</td>\n",
       "      <td>0.032365</td>\n",
       "      <td>-0.423232</td>\n",
       "      <td>0.000030</td>\n",
       "      <td>474.708</td>\n",
       "      <td>0.74366</td>\n",
       "      <td>101.36628</td>\n",
       "      <td>610613.52</td>\n",
       "      <td>4</td>\n",
       "      <td>8</td>\n",
       "    </tr>\n",
       "    <tr>\n",
       "      <th>3</th>\n",
       "      <td>3</td>\n",
       "      <td>325</td>\n",
       "      <td>685</td>\n",
       "      <td>7090.776</td>\n",
       "      <td>0.583296</td>\n",
       "      <td>2</td>\n",
       "      <td>-15.194040</td>\n",
       "      <td>1</td>\n",
       "      <td>0.031200</td>\n",
       "      <td>-0.383050</td>\n",
       "      <td>0.000002</td>\n",
       "      <td>1438.086</td>\n",
       "      <td>0.66435</td>\n",
       "      <td>100.36932</td>\n",
       "      <td>282403.17</td>\n",
       "      <td>4</td>\n",
       "      <td>5</td>\n",
       "    </tr>\n",
       "    <tr>\n",
       "      <th>4</th>\n",
       "      <td>4</td>\n",
       "      <td>230</td>\n",
       "      <td>606</td>\n",
       "      <td>6159.664</td>\n",
       "      <td>0.685224</td>\n",
       "      <td>9</td>\n",
       "      <td>-16.344315</td>\n",
       "      <td>1</td>\n",
       "      <td>0.420160</td>\n",
       "      <td>-0.334210</td>\n",
       "      <td>0.000000</td>\n",
       "      <td>4346.836</td>\n",
       "      <td>0.80752</td>\n",
       "      <td>72.41445</td>\n",
       "      <td>76964.37</td>\n",
       "      <td>3</td>\n",
       "      <td>16</td>\n",
       "    </tr>\n",
       "  </tbody>\n",
       "</table>\n",
       "</div>\n",
       "      <button class=\"colab-df-convert\" onclick=\"convertToInteractive('df-27b14a4c-0c2b-4818-ae96-a63c53381d7b')\"\n",
       "              title=\"Convert this dataframe to an interactive table.\"\n",
       "              style=\"display:none;\">\n",
       "        \n",
       "  <svg xmlns=\"http://www.w3.org/2000/svg\" height=\"24px\"viewBox=\"0 0 24 24\"\n",
       "       width=\"24px\">\n",
       "    <path d=\"M0 0h24v24H0V0z\" fill=\"none\"/>\n",
       "    <path d=\"M18.56 5.44l.94 2.06.94-2.06 2.06-.94-2.06-.94-.94-2.06-.94 2.06-2.06.94zm-11 1L8.5 8.5l.94-2.06 2.06-.94-2.06-.94L8.5 2.5l-.94 2.06-2.06.94zm10 10l.94 2.06.94-2.06 2.06-.94-2.06-.94-.94-2.06-.94 2.06-2.06.94z\"/><path d=\"M17.41 7.96l-1.37-1.37c-.4-.4-.92-.59-1.43-.59-.52 0-1.04.2-1.43.59L10.3 9.45l-7.72 7.72c-.78.78-.78 2.05 0 2.83L4 21.41c.39.39.9.59 1.41.59.51 0 1.02-.2 1.41-.59l7.78-7.78 2.81-2.81c.8-.78.8-2.07 0-2.86zM5.41 20L4 18.59l7.72-7.72 1.47 1.35L5.41 20z\"/>\n",
       "  </svg>\n",
       "      </button>\n",
       "      \n",
       "  <style>\n",
       "    .colab-df-container {\n",
       "      display:flex;\n",
       "      flex-wrap:wrap;\n",
       "      gap: 12px;\n",
       "    }\n",
       "\n",
       "    .colab-df-convert {\n",
       "      background-color: #E8F0FE;\n",
       "      border: none;\n",
       "      border-radius: 50%;\n",
       "      cursor: pointer;\n",
       "      display: none;\n",
       "      fill: #1967D2;\n",
       "      height: 32px;\n",
       "      padding: 0 0 0 0;\n",
       "      width: 32px;\n",
       "    }\n",
       "\n",
       "    .colab-df-convert:hover {\n",
       "      background-color: #E2EBFA;\n",
       "      box-shadow: 0px 1px 2px rgba(60, 64, 67, 0.3), 0px 1px 3px 1px rgba(60, 64, 67, 0.15);\n",
       "      fill: #174EA6;\n",
       "    }\n",
       "\n",
       "    [theme=dark] .colab-df-convert {\n",
       "      background-color: #3B4455;\n",
       "      fill: #D2E3FC;\n",
       "    }\n",
       "\n",
       "    [theme=dark] .colab-df-convert:hover {\n",
       "      background-color: #434B5C;\n",
       "      box-shadow: 0px 1px 3px 1px rgba(0, 0, 0, 0.15);\n",
       "      filter: drop-shadow(0px 1px 2px rgba(0, 0, 0, 0.3));\n",
       "      fill: #FFFFFF;\n",
       "    }\n",
       "  </style>\n",
       "\n",
       "      <script>\n",
       "        const buttonEl =\n",
       "          document.querySelector('#df-27b14a4c-0c2b-4818-ae96-a63c53381d7b button.colab-df-convert');\n",
       "        buttonEl.style.display =\n",
       "          google.colab.kernel.accessAllowed ? 'block' : 'none';\n",
       "\n",
       "        async function convertToInteractive(key) {\n",
       "          const element = document.querySelector('#df-27b14a4c-0c2b-4818-ae96-a63c53381d7b');\n",
       "          const dataTable =\n",
       "            await google.colab.kernel.invokeFunction('convertToInteractive',\n",
       "                                                     [key], {});\n",
       "          if (!dataTable) return;\n",
       "\n",
       "          const docLinkHtml = 'Like what you see? Visit the ' +\n",
       "            '<a target=\"_blank\" href=https://colab.research.google.com/notebooks/data_table.ipynb>data table notebook</a>'\n",
       "            + ' to learn more about interactive tables.';\n",
       "          element.innerHTML = '';\n",
       "          dataTable['output_type'] = 'display_data';\n",
       "          await google.colab.output.renderOutput(dataTable, element);\n",
       "          const docLink = document.createElement('div');\n",
       "          docLink.innerHTML = docLinkHtml;\n",
       "          element.appendChild(docLink);\n",
       "        }\n",
       "      </script>\n",
       "    </div>\n",
       "  </div>\n",
       "  "
      ],
      "text/plain": [
       "   index  composer  album  danceability    energy  key   loudness  mode  \\\n",
       "0      0        35   5187      6538.248  0.333312    2 -17.541540     0   \n",
       "1      1       206    799      6323.376  0.397296    0 -16.723045     1   \n",
       "2      2       318   1152      7305.648  0.511872    2 -21.101915     1   \n",
       "3      3       325    685      7090.776  0.583296    2 -15.194040     1   \n",
       "4      4       230    606      6159.664  0.685224    9 -16.344315     1   \n",
       "\n",
       "   speechiness  acousticness  instrumentalness  liveness  valence      tempo  \\\n",
       "0     0.034528     -0.432689          0.002920   567.788  0.54487   92.65497   \n",
       "1     0.030451     -0.357520          0.000000  2196.688  0.72203  104.02050   \n",
       "2     0.032365     -0.423232          0.000030   474.708  0.74366  101.36628   \n",
       "3     0.031200     -0.383050          0.000002  1438.086  0.66435  100.36932   \n",
       "4     0.420160     -0.334210          0.000000  4346.836  0.80752   72.41445   \n",
       "\n",
       "   duration_ms  time_signature  popularity  \n",
       "0    347863.20               4          35  \n",
       "1    205176.03               4           5  \n",
       "2    610613.52               4           8  \n",
       "3    282403.17               4           5  \n",
       "4     76964.37               3          16  "
      ]
     },
     "execution_count": 32,
     "metadata": {},
     "output_type": "execute_result"
    }
   ],
   "source": [
    "# Используйте эти пути для запуска ноутбука на Kaggle\n",
    "PATH_TO_KAGGLE_TRAIN = \"/kaggle/input/cmc-ml-spotify-tracks-popularity-prediction/train.csv\"\n",
    "PATH_TO_KAGGLE_TEST = \"/kaggle/input/cmc-ml-spotify-tracks-popularity-prediction/test.csv\"\n",
    "PATH_TO_KAGGLE_SUBMISSION = \"/kaggle/working/submission.csv\"\n",
    "\n",
    "# Если запускаете на своем компьютере, то впишите актуальные пути\n",
    "PATH_TO_TRAIN = \"data/train.csv\"\n",
    "PATH_TO_TEST = \"data/test.csv\"\n",
    "PATH_TO_SUBMISSION = \"data/submission.csv\"\n",
    "\n",
    "#train = pd.read_csv(PATH_TO_KAGGLE_TRAIN)\n",
    "#test = pd.read_csv(PATH_TO_KAGGLE_TEST)\n",
    "\n",
    "train = pd.read_csv(PATH_TO_TRAIN) #Delete me\n",
    "test = pd.read_csv(PATH_TO_TEST)\n",
    "\n",
    "\n",
    "X_train = train.drop([\"index\", \"popularity\"], axis=1)\n",
    "y_train = train[\"popularity\"]\n",
    "\n",
    "train.head()"
   ]
  },
  {
   "cell_type": "markdown",
   "metadata": {
    "id": "X6FK7Q4wwtxJ"
   },
   "source": [
    "Затем создадим модель и обучим ее на тренировочной выборке."
   ]
  },
  {
   "cell_type": "code",
   "execution_count": 33,
   "metadata": {
    "ExecuteTime": {
     "end_time": "2022-03-13T12:24:46.745441Z",
     "start_time": "2022-03-13T12:24:46.725439Z"
    },
    "colab": {
     "base_uri": "https://localhost:8080/"
    },
    "id": "4t6419SlwtxK",
    "outputId": "7494fd74-8217-4477-f1fe-fd0196fc7fff"
   },
   "outputs": [
    {
     "data": {
      "text/plain": [
       "LGBMRegressor(max_depth=5, n_estimators=5000)"
      ]
     },
     "execution_count": 33,
     "metadata": {},
     "output_type": "execute_result"
    }
   ],
   "source": [
    "from lightgbm import LGBMRegressor\n",
    "model = LGBMRegressor(n_estimators=5000, max_depth=5, learning_rate=0.1)\n",
    "model.fit(X_train, y_train)"
   ]
  },
  {
   "cell_type": "markdown",
   "metadata": {
    "id": "a8vX7nTjwtxL"
   },
   "source": [
    "Вычислим ошибку модели на тренировочной выборке."
   ]
  },
  {
   "cell_type": "code",
   "execution_count": 34,
   "metadata": {
    "ExecuteTime": {
     "end_time": "2022-03-13T12:25:02.165214Z",
     "start_time": "2022-03-13T12:25:02.145213Z"
    },
    "colab": {
     "base_uri": "https://localhost:8080/"
    },
    "id": "EsLCMHYHwtxN",
    "outputId": "500b916d-8b38-4faa-cf55-11f79db6ce10"
   },
   "outputs": [
    {
     "name": "stdout",
     "output_type": "stream",
     "text": [
      "Train rMSE: 5.501528436309721\n"
     ]
    }
   ],
   "source": [
    "print(f\"Train rMSE: {mean_squared_error(y_train, model.predict(X_train), squared=False)}\")"
   ]
  },
  {
   "cell_type": "markdown",
   "metadata": {
    "id": "Yb_xG6MawtxN"
   },
   "source": [
    "В заключение получим столбец предсказаний популярности для тестовой выборки и сохраним его в виде csv-файла (обратите внимание, что в выходном файле должно быть два столбца -- **index** и **popularity**)."
   ]
  },
  {
   "cell_type": "code",
   "execution_count": 37,
   "metadata": {
    "ExecuteTime": {
     "end_time": "2022-03-13T12:09:31.923131Z",
     "start_time": "2022-03-13T12:09:31.887126Z"
    },
    "id": "N7morKACwtxP"
   },
   "outputs": [],
   "source": [
    "submission = pd.DataFrame({\"index\": test[\"index\"], \n",
    "                           \"popularity\": model.predict(test.drop(\"index\", axis=1))})"
   ]
  },
  {
   "cell_type": "code",
   "execution_count": 36,
   "metadata": {
    "ExecuteTime": {
     "end_time": "2022-03-13T12:27:58.049132Z",
     "start_time": "2022-03-13T12:27:57.941098Z"
    },
    "id": "EWI2gFhCwtxQ"
   },
   "outputs": [],
   "source": [
    "submission.to_csv(PATH_TO_SUBMISSION, index=False)"
   ]
  },
  {
   "cell_type": "code",
   "execution_count": 36,
   "metadata": {
    "id": "FM8xR2_XwtxR"
   },
   "outputs": [],
   "source": []
  }
 ],
 "metadata": {
  "colab": {
   "collapsed_sections": [],
   "name": "simple_pipeline.ipynb",
   "provenance": []
  },
  "kernelspec": {
   "display_name": "Python 3",
   "language": "python",
   "name": "python3"
  },
  "language_info": {
   "codemirror_mode": {
    "name": "ipython",
    "version": 3
   },
   "file_extension": ".py",
   "mimetype": "text/x-python",
   "name": "python",
   "nbconvert_exporter": "python",
   "pygments_lexer": "ipython3",
   "version": "3.8.10"
  }
 },
 "nbformat": 4,
 "nbformat_minor": 1
}
